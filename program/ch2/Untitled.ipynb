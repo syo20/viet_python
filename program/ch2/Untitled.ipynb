{
 "cells": [
  {
   "cell_type": "code",
   "execution_count": 2,
   "metadata": {},
   "outputs": [],
   "source": [
    "# -*- coding: utf-8 -*-\n",
    "\"\"\"\n",
    "server0.pyプログラム\n",
    "Pythonによるサーバソケットの利用法を示す例題プログラム(0)\n",
    "50000番ポートで接続を待ち受けて、メッセージを返します\n",
    "1回だけ接続し、その後プログラムを終了します\n",
    "使いかた　c:\\>python server0.py\n",
    "\"\"\"\n",
    "\n",
    "# モジュールのインポート\n",
    "import socket\n",
    "\n",
    "# グローバル変数\n",
    "PORT = 50000      # ポート番号\n",
    "\n",
    "# メイン実行部\n",
    "# ソケットの作成\n",
    "server = socket.socket(socket.AF_INET, socket.SOCK_STREAM)\n",
    "# アドレスの設定\n",
    "server.bind((\"\",PORT))\n",
    "# 接続の待ち受け\n",
    "server.listen()\n",
    "\n",
    "# クライアントへの対応処理\n",
    "client, addr = server.accept()             # 通信用ソケットの取得 \n",
    "client.sendall(b\"Hi, nice to meet you!\\n\") # メッセージの送信\n",
    "client.close()                             # コネクションのクローズ\n",
    "server.close()                             # サーバソケットのクローズ\n",
    "# server0.pyの終わり\n"
   ]
  },
  {
   "cell_type": "code",
   "execution_count": null,
   "metadata": {
    "collapsed": true
   },
   "outputs": [],
   "source": []
  }
 ],
 "metadata": {
  "kernelspec": {
   "display_name": "Python 3",
   "language": "python",
   "name": "python3"
  },
  "language_info": {
   "codemirror_mode": {
    "name": "ipython",
    "version": 3
   },
   "file_extension": ".py",
   "mimetype": "text/x-python",
   "name": "python",
   "nbconvert_exporter": "python",
   "pygments_lexer": "ipython3",
   "version": "3.6.1"
  }
 },
 "nbformat": 4,
 "nbformat_minor": 2
}
