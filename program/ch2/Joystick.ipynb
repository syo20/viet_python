{
 "cells": [
  {
   "cell_type": "code",
   "execution_count": 13,
   "metadata": {},
   "outputs": [
    {
     "name": "stdout",
     "output_type": "stream",
     "text": [
      "ジョイスティックの名前: iBUFFALO BSGP1204 Series\n",
      "ボタン数 : 12\n",
      "十時キー: 0.0 0.0\n",
      "十時キー: 0.0 0.0\n",
      "十時キー: 0.0 -0.0234375\n",
      "十時キー: -0.0625 -0.0234375\n"
     ]
    },
    {
     "ename": "KeyboardInterrupt",
     "evalue": "",
     "output_type": "error",
     "traceback": [
      "\u001b[1;31m---------------------------------------------------------------------------\u001b[0m",
      "\u001b[1;31mKeyboardInterrupt\u001b[0m                         Traceback (most recent call last)",
      "\u001b[1;32m<ipython-input-13-18f5a742197a>\u001b[0m in \u001b[0;36m<module>\u001b[1;34m()\u001b[0m\n\u001b[0;32m     25\u001b[0m \u001b[1;33m\u001b[0m\u001b[0m\n\u001b[0;32m     26\u001b[0m     \u001b[1;31m# イベントの取得\u001b[0m\u001b[1;33m\u001b[0m\u001b[1;33m\u001b[0m\u001b[0m\n\u001b[1;32m---> 27\u001b[1;33m     \u001b[1;32mfor\u001b[0m \u001b[0me\u001b[0m \u001b[1;32min\u001b[0m \u001b[0mpygame\u001b[0m\u001b[1;33m.\u001b[0m\u001b[0mevent\u001b[0m\u001b[1;33m.\u001b[0m\u001b[0mget\u001b[0m\u001b[1;33m(\u001b[0m\u001b[1;33m)\u001b[0m\u001b[1;33m:\u001b[0m\u001b[1;33m\u001b[0m\u001b[0m\n\u001b[0m\u001b[0;32m     28\u001b[0m         \u001b[1;31m# 終了ボタン\u001b[0m\u001b[1;33m\u001b[0m\u001b[1;33m\u001b[0m\u001b[0m\n\u001b[0;32m     29\u001b[0m         \u001b[1;32mif\u001b[0m \u001b[0me\u001b[0m\u001b[1;33m.\u001b[0m\u001b[0mtype\u001b[0m \u001b[1;33m==\u001b[0m \u001b[0mQUIT\u001b[0m\u001b[1;33m:\u001b[0m\u001b[1;33m\u001b[0m\u001b[0m\n",
      "\u001b[1;31mKeyboardInterrupt\u001b[0m: "
     ]
    }
   ],
   "source": [
    "import pygame\n",
    "from pygame.locals import *\n",
    "\n",
    "# ジョイスティックの初期化\n",
    "pygame.joystick.init()\n",
    "try:\n",
    "    \n",
    "    # ジョイスティックインスタンスの生成\n",
    "    joystick = pygame.joystick.Joystick(0)\n",
    "    joystick.init()\n",
    "    print('ジョイスティックの名前:', joystick.get_name())\n",
    "    print('ボタン数 :', joystick.get_numbuttons())\n",
    "except pygame.error:\n",
    "    print('ジョイスティックが接続されていません')\n",
    "\n",
    "# pygameの初期化\n",
    "pygame.init()\n",
    "\n",
    "# 画面の生成\n",
    "screen = pygame.display.set_mode((320, 320))\n",
    "\n",
    "# ループ\n",
    "active = True\n",
    "while active:\n",
    "    \n",
    "    # イベントの取得\n",
    "    for e in pygame.event.get():\n",
    "        # 終了ボタン\n",
    "        if e.type == QUIT:\n",
    "            active = False\n",
    "\n",
    "       # ジョイスティックのボタンの入力\n",
    "        if e.type == pygame.locals.JOYAXISMOTION:\n",
    "            print('十時キー:', joystick.get_axis(0), joystick.get_axis(1))\n",
    "        elif e.type == pygame.locals.JOYBUTTONDOWN:\n",
    "            print('ボタン'+str(e.button)+'を押した')\n",
    "        elif e.type == pygame.locals.JOYBUTTONUP:\n",
    "            print('ボタン'+str(e.button)+'を離した')"
   ]
  },
  {
   "cell_type": "code",
   "execution_count": null,
   "metadata": {
    "collapsed": true
   },
   "outputs": [],
   "source": []
  },
  {
   "cell_type": "code",
   "execution_count": null,
   "metadata": {
    "collapsed": true
   },
   "outputs": [],
   "source": []
  }
 ],
 "metadata": {
  "kernelspec": {
   "display_name": "Python 3",
   "language": "python",
   "name": "python3"
  },
  "language_info": {
   "codemirror_mode": {
    "name": "ipython",
    "version": 3
   },
   "file_extension": ".py",
   "mimetype": "text/x-python",
   "name": "python",
   "nbconvert_exporter": "python",
   "pygments_lexer": "ipython3",
   "version": "3.6.1"
  }
 },
 "nbformat": 4,
 "nbformat_minor": 2
}
