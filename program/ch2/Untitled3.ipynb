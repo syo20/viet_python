{
 "cells": [
  {
   "cell_type": "code",
   "execution_count": null,
   "metadata": {
    "collapsed": true
   },
   "outputs": [],
   "source": [
    "from datetime import datetime\n",
    "import socket\n",
    "\n",
    "\n",
    "print('The server started at', datetime.now())\n",
    "print('Waiting...')\n",
    "\n",
    "server = socket.socket(socket.AF_INET, socket.SOCK_DGRAM)\n",
    "server.bind(('127.0.0.1', 50000))\n",
    "data, addr = server.recvfrom(1024)\n",
    "print('at', datetime.now(),'data: ', data, 'addr: ', addr)\n",
    "server.close()"
   ]
  }
 ],
 "metadata": {
  "kernelspec": {
   "display_name": "Python 3",
   "language": "python",
   "name": "python3"
  },
  "language_info": {
   "codemirror_mode": {
    "name": "ipython",
    "version": 3
   },
   "file_extension": ".py",
   "mimetype": "text/x-python",
   "name": "python",
   "nbconvert_exporter": "python",
   "pygments_lexer": "ipython3",
   "version": "3.6.1"
  }
 },
 "nbformat": 4,
 "nbformat_minor": 2
}
