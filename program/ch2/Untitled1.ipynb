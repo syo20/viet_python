{
 "cells": [
  {
   "cell_type": "code",
   "execution_count": 1,
   "metadata": {},
   "outputs": [
    {
     "name": "stdout",
     "output_type": "stream",
     "text": [
      "Hi, nice to meet you!\n",
      "\n"
     ]
    }
   ],
   "source": [
    "# -*- coding: utf-8 -*-\n",
    "\"\"\"\n",
    "client0.pyプログラム\n",
    "Pythonによるクライアントソケットの利用法を示す例題プログラム(0)\n",
    "50000番ポートでサーバに接続します\n",
    "使いかた　c:\\>python client0.py\n",
    "\"\"\"\n",
    "\n",
    "# モジュールのインポート\n",
    "import socket\n",
    "\n",
    "# グローバル変数\n",
    "HOST = \"localhost\"  # 接続先ホストの名前\n",
    "#HOST = \"127.0.0.1\" # 接続先ホストの名前\n",
    "PORT = 50000        # ポート番号\n",
    "BUFSIZE = 4096      # 受信バッファの大きさ\n",
    "\n",
    "# メイン実行部\n",
    "# ソケットの作成\n",
    "client = socket.socket(socket.AF_INET, socket.SOCK_STREAM)\n",
    "# サーバとの接続\n",
    "client.connect((HOST, PORT))\n",
    "# サーバからのメッセージの受信\n",
    "data = client.recv(BUFSIZE)\n",
    "print(data.decode(\"UTF-8\"))\n",
    "# コネクションのクローズ\n",
    "client.close()                             \n",
    "# client0.pyの終わり"
   ]
  },
  {
   "cell_type": "code",
   "execution_count": null,
   "metadata": {
    "collapsed": true
   },
   "outputs": [],
   "source": []
  }
 ],
 "metadata": {
  "kernelspec": {
   "display_name": "Python 3",
   "language": "python",
   "name": "python3"
  },
  "language_info": {
   "codemirror_mode": {
    "name": "ipython",
    "version": 3
   },
   "file_extension": ".py",
   "mimetype": "text/x-python",
   "name": "python",
   "nbconvert_exporter": "python",
   "pygments_lexer": "ipython3",
   "version": "3.6.1"
  }
 },
 "nbformat": 4,
 "nbformat_minor": 2
}
