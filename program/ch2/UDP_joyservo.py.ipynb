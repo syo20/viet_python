{
 "cells": [
  {
   "cell_type": "code",
   "execution_count": 1,
   "metadata": {},
   "outputs": [
    {
     "name": "stdout",
     "output_type": "stream",
     "text": [
      "pygame 2.0.1 (SDL 2.0.14, Python 3.6.1)\n",
      "Hello from the pygame community. https://www.pygame.org/contribute.html\n",
      "ジョイスティックの名前: iBUFFALO BSGP1204 Series\n",
      "ボタン数 : 12\n",
      "ボタン9を押した"
     ]
    }
   ],
   "source": [
    "import pygame\n",
    "from pygame.locals import *\n",
    "import time\n",
    "\n",
    "# モジュールのインポート\n",
    "import socket\n",
    "import time\n",
    "\n",
    "# グローバル変数\n",
    "#HOST = \"localhost\"     # 接続先ホストの名前\n",
    "HOST = \"192.168.1.170\"  # 接続先ホストの名前\n",
    "PORT = 50000            # ポート番号\n",
    "BUFSIZE = 4096          # 受信バッファの大きさ\n",
    "\n",
    "# メイン実行部\n",
    "# ソケットの作成\n",
    "client = socket.socket(socket.AF_INET, socket.SOCK_DGRAM)\n",
    "# サーバとの接続\n",
    "client.connect((HOST, PORT))\n",
    "\n",
    "# ジョイスティックの初期化\n",
    "pygame.joystick.init()\n",
    "try:\n",
    "    # ジョイスティックインスタンスの生成\n",
    "    joystick = pygame.joystick.Joystick(0)\n",
    "    joystick.init()\n",
    "    print('ジョイスティックの名前:', joystick.get_name())\n",
    "    print('ボタン数 :', joystick.get_numbuttons())\n",
    "except pygame.error:\n",
    "    print('ジョイスティックが接続されていません')\n",
    "\n",
    "# pygameの初期化\n",
    "pygame.init()\n",
    "\n",
    "# 画面の生成\n",
    "#screen = pygame.display.set_mode((320, 320))\n",
    "\n",
    "# ループ\n",
    "pygame.event.clear()\n",
    "active = True\n",
    "while active:\n",
    "    # イベントの取得\n",
    "#    time.sleep(0.1)\n",
    "    for e in pygame.event.get():\n",
    "        # 終了ボタン\n",
    "#        print('e=',e)\n",
    "        if e.type == QUIT:\n",
    "            active = False\n",
    "\n",
    "        #  ジョイスティックのボタンの入力\n",
    "        if e.type == pygame.locals.JOYAXISMOTION:\n",
    "#            print('十時キー:', joystick.get_axis(0), joystick.get_axis(1))\n",
    "            x=int(joystick.get_axis(0)*100)\n",
    "#            print(x,\"--\",bytes(str(x)+' ', encoding = \"utf-8\"))\n",
    "            client.sendall(bytes(str(x)+' ', encoding = \"utf-8\"))\n",
    "        elif e.type == pygame.locals.JOYBUTTONDOWN:\n",
    "            ch = e.button+1\n",
    "            print(\"\\r{0}\".format(\"ボタン\"+str(ch)+'を押した'),end=\"\")\n",
    "            if ch == 1:\n",
    "                data=b\"1\"\n",
    "            elif ch == 2:\n",
    "                data=b\"2\"\n",
    "            elif ch ==9:\n",
    "                data=b\"1000\"\n",
    "                client.sendall(data)\n",
    "                client.close()\n",
    "                joystick.quit()\n",
    "                active = False\n",
    "                break\n",
    "#            print(type(data))\n",
    "#            client.sendall(data)\n",
    "            client.sendall(data)\n",
    "\n",
    "        elif e.type == pygame.locals.JOYBUTTONUP:\n",
    "            print(\"\\r{0}\".format('ボタン'+str(e.button+1)+'を離した'),end=\"\")"
   ]
  },
  {
   "cell_type": "code",
   "execution_count": null,
   "metadata": {
    "collapsed": true
   },
   "outputs": [],
   "source": []
  },
  {
   "cell_type": "code",
   "execution_count": null,
   "metadata": {
    "collapsed": true
   },
   "outputs": [],
   "source": []
  }
 ],
 "metadata": {
  "kernelspec": {
   "display_name": "Python 3",
   "language": "python",
   "name": "python3"
  },
  "language_info": {
   "codemirror_mode": {
    "name": "ipython",
    "version": 3
   },
   "file_extension": ".py",
   "mimetype": "text/x-python",
   "name": "python",
   "nbconvert_exporter": "python",
   "pygments_lexer": "ipython3",
   "version": "3.6.1"
  }
 },
 "nbformat": 4,
 "nbformat_minor": 2
}
